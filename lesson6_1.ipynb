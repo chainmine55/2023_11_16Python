{
 "cells": [
  {
   "cell_type": "code",
   "execution_count": 2,
   "metadata": {},
   "outputs": [
    {
     "name": "stdout",
     "output_type": "stream",
     "text": [
      "成年\n"
     ]
    }
   ],
   "source": [
    "# not運算子\n",
    "\n",
    "age = 18\n",
    "\n",
    "if age >= 18:\n",
    "    print(\"成年\")\n",
    "else:\n",
    "    print(\"未成年\")"
   ]
  },
  {
   "cell_type": "code",
   "execution_count": 1,
   "metadata": {},
   "outputs": [
    {
     "name": "stdout",
     "output_type": "stream",
     "text": [
      "成年\n"
     ]
    }
   ],
   "source": [
    "# not運算子\n",
    "\n",
    "age = 18\n",
    "\n",
    "if not age >= 18:\n",
    "    print(\"未成年\")\n",
    "else:\n",
    "    print(\"成年\")"
   ]
  },
  {
   "cell_type": "code",
   "execution_count": 6,
   "metadata": {},
   "outputs": [
    {
     "name": "stdout",
     "output_type": "stream",
     "text": [
      "請輸入國文分數:90\n",
      "請輸入數學分數90\n",
      "獎金:0\n"
     ]
    }
   ],
   "source": [
    "#國文分數100同時數學分數100,獎金1000元\n",
    "#國文分數100或是數學分數100,獎金500元\n",
    "#使用巢狀判斷\n",
    "\n",
    "import pyinputplus as pyip\n",
    "\n",
    "chinese = pyip.inputInt(\"請輸入國文分數:\",min=0,max=100)\n",
    "print(chinese)\n",
    "math = pyip.inputInt(\"請輸入數學分數\",min=0,max=100)\n",
    "print(math)\n",
    "\n",
    "if chinese == 100:\n",
    "    if math ==100:\n",
    "        bount = 1000\n",
    "    else:\n",
    "        bount =500\n",
    "elif math ==100:\n",
    "    bount = 500\n",
    "else:\n",
    "    bount = 0\n",
    "\n",
    "print(f\"獎金:{bount}\")"
   ]
  },
  {
   "cell_type": "code",
   "execution_count": 11,
   "metadata": {},
   "outputs": [
    {
     "name": "stdout",
     "output_type": "stream",
     "text": [
      "請輸入國文分數:90\n",
      "請輸入數學分數90\n",
      "獎金:0\n"
     ]
    }
   ],
   "source": [
    "#國文分數100同時數學分數100,獎金1000元\n",
    "#國文分數100或是數學分數100,獎金500元\n",
    "#使用邏輯運算子\n",
    "\n",
    "import pyinputplus as pyip\n",
    "\n",
    "chinese = pyip.inputInt(\"請輸入國文分數:\",min=0,max=100)\n",
    "print(chinese)\n",
    "math = pyip.inputInt(\"請輸入數學分數\",min=0,max=100)\n",
    "print(math)\n",
    "\n",
    "if chinese == 100 and math == 100:\n",
    "    bount = 1000\n",
    "elif chinese ==100 or math ==100:\n",
    "    bount = 500\n",
    "else:\n",
    "    bount = 0\n",
    "\n",
    "print(f\"獎金:{bount}\")\n",
    "    "
   ]
  }
 ],
 "metadata": {
  "kernelspec": {
   "display_name": "Python 3",
   "language": "python",
   "name": "python3"
  },
  "language_info": {
   "codemirror_mode": {
    "name": "ipython",
    "version": 3
   },
   "file_extension": ".py",
   "mimetype": "text/x-python",
   "name": "python",
   "nbconvert_exporter": "python",
   "pygments_lexer": "ipython3",
   "version": "3.10.13"
  }
 },
 "nbformat": 4,
 "nbformat_minor": 2
}
