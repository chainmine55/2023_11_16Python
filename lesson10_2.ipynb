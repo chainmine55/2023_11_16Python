{
 "cells": [
  {
   "cell_type": "code",
   "execution_count": null,
   "metadata": {},
   "outputs": [],
   "source": [
    "with open('names.txt',mode='r',encoding='utf-8') as file:\n",
    "    names:str = file.read()\n",
    "\n",
    "nameList:list[str] = names.split('\\n')  #字串更改為LIST資料\n",
    "\n",
    "for name in nameList:   #利用for in抓取資料\n",
    "    print(name)"
   ]
  },
  {
   "cell_type": "code",
   "execution_count": 3,
   "metadata": {},
   "outputs": [
    {
     "name": "stdout",
     "output_type": "stream",
     "text": [
      "命名選取器(請輸入1~10)您有以下建議名字:\n",
      "['黃善迪', '謝佳穎', '聶心怡']\n"
     ]
    }
   ],
   "source": [
    "import random\n",
    "import pyinputplus as pyip\n",
    "\n",
    "numbers:int = pyip.inputInt('命名選取器(請輸入1~10)',min=1,max=10)\n",
    "print('您有以下建議名字:')\n",
    "namePart:list[str] = random.choices(nameList,k=numbers)\n",
    "print(namePart)"
   ]
  },
  {
   "cell_type": "code",
   "execution_count": 5,
   "metadata": {},
   "outputs": [
    {
     "data": {
      "text/plain": [
       "[56, 78, 92, 87, 95]"
      ]
     },
     "execution_count": 5,
     "metadata": {},
     "output_type": "execute_result"
    }
   ],
   "source": [
    "[56,78,92,87,95]"
   ]
  },
  {
   "cell_type": "code",
   "execution_count": 6,
   "metadata": {},
   "outputs": [
    {
     "data": {
      "text/plain": [
       "[52, 93, 76, 74, 99]"
      ]
     },
     "execution_count": 6,
     "metadata": {},
     "output_type": "execute_result"
    }
   ],
   "source": [
    "import random\n",
    "\n",
    "[random.randint(40,100),random.randint(40,100),random.randint(40,100),random.randint(40,100),random.randint(40,100)]"
   ]
  },
  {
   "cell_type": "code",
   "execution_count": 7,
   "metadata": {},
   "outputs": [
    {
     "data": {
      "text/plain": [
       "[97, 81, 94, 62, 93]"
      ]
     },
     "execution_count": 7,
     "metadata": {},
     "output_type": "execute_result"
    }
   ],
   "source": [
    "#隨機建立一個學生分數\n",
    "stu:list[int]=[]\n",
    "scores_nums:int = 5\n",
    "for i in range(scores_nums):\n",
    "    stu.append(random.randint(40,100))\n",
    "stu"
   ]
  },
  {
   "cell_type": "code",
   "execution_count": 12,
   "metadata": {},
   "outputs": [
    {
     "name": "stdout",
     "output_type": "stream",
     "text": [
      "請輸入學生的人數(1~50):5\n",
      "['楊綺芬', 80, 86, 90, 74, 52]\n",
      "['陳奇瑄', 89, 80, 56, 58, 95]\n",
      "['林淑安', 42, 86, 75, 100, 58]\n",
      "['周家銘', 100, 58, 90, 76, 59]\n",
      "['陳家年', 80, 92, 54, 54, 47]\n"
     ]
    }
   ],
   "source": [
    "student_nums:int = pyip.inputInt('請輸入學生的人數(1~50):',min=1,max=50)\n",
    "print(student_nums)\n",
    "names:list[str] = random.choices(nameList,k=student_nums)\n",
    "for name in names:\n",
    "    stu:list[int|str]=[]\n",
    "    stu.append(name)\n",
    "    scores_nums:int = 5\n",
    "    for i in range(scores_nums):\n",
    "        stu.append(random.randint(40,100))\n",
    "    print(stu)\n"
   ]
  },
  {
   "cell_type": "code",
   "execution_count": 13,
   "metadata": {},
   "outputs": [
    {
     "name": "stdout",
     "output_type": "stream",
     "text": [
      "請輸入學生的人數(1~50):10\n",
      "請輸入科目數(1~7):7\n",
      "['王士銘', 87, 77, 93, 86, 49, 96, 72]\n",
      "['林思賢', 49, 81, 85, 74, 61, 100, 70]\n",
      "['楊韋廷', 71, 40, 40, 96, 54, 66, 79]\n",
      "['吳志宣', 77, 44, 87, 51, 64, 93, 45]\n",
      "['劉雯芬', 44, 93, 84, 81, 90, 77, 54]\n",
      "['蔡欣汝', 83, 42, 91, 62, 59, 92, 76]\n",
      "['崔孝憲', 42, 45, 81, 80, 67, 73, 65]\n",
      "['藍姿婷', 85, 63, 90, 95, 54, 80, 81]\n",
      "['趙家豪', 74, 58, 65, 73, 97, 83, 79]\n",
      "['李政白', 62, 89, 71, 66, 70, 71, 44]\n"
     ]
    }
   ],
   "source": [
    "student_nums:int = pyip.inputInt('請輸入學生的人數(1~50):',min=1,max=50)\n",
    "print(student_nums)\n",
    "scores_nums:int = pyip.inputInt('請輸入科目數(1~7):',min=1,max=7)  #調動順序,隨機科目數\n",
    "print(scores_nums)\n",
    "\n",
    "names:list[str] = random.choices(nameList,k=student_nums)\n",
    "for name in names:\n",
    "    stu:list[int|str]=[]\n",
    "    stu.append(name)\n",
    "    for i in range(scores_nums):\n",
    "        stu.append(random.randint(40,100))\n",
    "    print(stu)"
   ]
  },
  {
   "cell_type": "code",
   "execution_count": 15,
   "metadata": {},
   "outputs": [
    {
     "name": "stdout",
     "output_type": "stream",
     "text": [
      "請輸入學生的人數(1~50):10\n",
      "請輸入科目數(1~7):5\n"
     ]
    },
    {
     "data": {
      "text/plain": [
       "[['吳振瑋', 100, 77, 73, 45, 61],\n",
       " ['張莉雯', 70, 76, 65, 66, 97],\n",
       " ['林佳慧', 78, 72, 48, 76, 57],\n",
       " ['楊建安', 86, 77, 64, 88, 78],\n",
       " ['馮淑芬', 49, 50, 83, 90, 75],\n",
       " ['沈心利', 80, 86, 58, 77, 89],\n",
       " ['楊又源', 61, 94, 90, 58, 40],\n",
       " ['周家銘', 63, 59, 42, 63, 99],\n",
       " ['胡淑貞', 80, 53, 70, 68, 57],\n",
       " ['林淑安', 78, 72, 96, 73, 66]]"
      ]
     },
     "execution_count": 15,
     "metadata": {},
     "output_type": "execute_result"
    }
   ],
   "source": [
    "student_nums:int = pyip.inputInt('請輸入學生的人數(1~50):',min=1,max=50)\n",
    "print(student_nums)\n",
    "scores_nums:int = pyip.inputInt('請輸入科目數(1~7):',min=1,max=7)\n",
    "print(scores_nums)\n",
    "\n",
    "students:list[list] = []   #建立二維list\n",
    "\n",
    "names:list[str] = random.choices(nameList,k=student_nums)\n",
    "for name in names:\n",
    "    stu:list[int|str]=[]\n",
    "    stu.append(name)\n",
    "    for i in range(scores_nums):\n",
    "        stu.append(random.randint(40,100))\n",
    "    students.append(stu)\n",
    "\n",
    "students"
   ]
  }
 ],
 "metadata": {
  "kernelspec": {
   "display_name": "Python 3",
   "language": "python",
   "name": "python3"
  },
  "language_info": {
   "codemirror_mode": {
    "name": "ipython",
    "version": 3
   },
   "file_extension": ".py",
   "mimetype": "text/x-python",
   "name": "python",
   "nbconvert_exporter": "python",
   "pygments_lexer": "ipython3",
   "version": "3.11.7"
  }
 },
 "nbformat": 4,
 "nbformat_minor": 2
}
