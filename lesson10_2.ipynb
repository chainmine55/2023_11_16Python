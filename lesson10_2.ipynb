{
 "cells": [
  {
   "cell_type": "code",
   "execution_count": null,
   "metadata": {},
   "outputs": [],
   "source": [
    "with open('names.txt',mode='r',encoding='utf-8') as file:\n",
    "    names:str = file.read()\n",
    "\n",
    "nameList:list[str] = names.split('\\n')  #字串更改為LIST資料\n",
    "\n",
    "for name in nameList:   #利用for in抓取資料\n",
    "    print(name)"
   ]
  },
  {
   "cell_type": "code",
   "execution_count": 4,
   "metadata": {},
   "outputs": [
    {
     "name": "stdout",
     "output_type": "stream",
     "text": [
      "命名選取器(請輸入1~10)您有以下建議名字:\n",
      "['郭淑枝', '呂傑宣', '林怡偉']\n"
     ]
    }
   ],
   "source": [
    "import random\n",
    "import pyinputplus as pyip\n",
    "\n",
    "numbers:int = pyip.inputInt('命名選取器(請輸入1~10)',min=1,max=10)\n",
    "print('您有以下建議名字:')\n",
    "namePart:list[str] = random.choices(nameList,k=numbers)\n",
    "print(namePart)"
   ]
  },
  {
   "cell_type": "code",
   "execution_count": 5,
   "metadata": {},
   "outputs": [
    {
     "data": {
      "text/plain": [
       "[56, 78, 92, 87, 95]"
      ]
     },
     "execution_count": 5,
     "metadata": {},
     "output_type": "execute_result"
    }
   ],
   "source": [
    "[56,78,92,87,95]"
   ]
  },
  {
   "cell_type": "code",
   "execution_count": 6,
   "metadata": {},
   "outputs": [
    {
     "data": {
      "text/plain": [
       "[52, 93, 76, 74, 99]"
      ]
     },
     "execution_count": 6,
     "metadata": {},
     "output_type": "execute_result"
    }
   ],
   "source": [
    "import random\n",
    "\n",
    "[random.randint(40,100),random.randint(40,100),random.randint(40,100),random.randint(40,100),random.randint(40,100)]"
   ]
  },
  {
   "cell_type": "code",
   "execution_count": 7,
   "metadata": {},
   "outputs": [
    {
     "data": {
      "text/plain": [
       "[97, 81, 94, 62, 93]"
      ]
     },
     "execution_count": 7,
     "metadata": {},
     "output_type": "execute_result"
    }
   ],
   "source": [
    "#隨機建立一個學生分數\n",
    "stu:list[int]=[]\n",
    "scores_nums:int = 5\n",
    "for i in range(scores_nums):\n",
    "    stu.append(random.randint(40,100))\n",
    "stu"
   ]
  },
  {
   "cell_type": "code",
   "execution_count": null,
   "metadata": {},
   "outputs": [],
   "source": [
    "student_nums:int = pyip.inputInt('請輸入學生的人數(1~50):',min=1,max=50)\n",
    "print(student_nums)\n",
    "names:list[str] = random.choices(nameList,k=student_nums)\n",
    "for name in names:\n",
    "    stu:list[int|str]=[]\n",
    "    stu.append(name)\n",
    "    scores_nums:int = 5\n",
    "    for i in range(scores_nums):\n",
    "        stu.append(random.randint(40,100))\n",
    "    print(stu)\n"
   ]
  },
  {
   "cell_type": "code",
   "execution_count": 15,
   "metadata": {},
   "outputs": [
    {
     "name": "stdout",
     "output_type": "stream",
     "text": [
      "請輸入學生的人數(1~50):10\n",
      "請輸入科目數(1~7):7\n",
      "['簡美君', 72, 95, 76, 81, 82, 62, 80]\n",
      "['黃彥孝', 99, 88, 94, 71, 55, 42, 73]\n",
      "['張凡成', 71, 40, 66, 61, 43, 92, 61]\n",
      "['黃婷婷', 66, 45, 79, 69, 65, 84, 62]\n",
      "['張莉雯', 96, 64, 60, 73, 80, 96, 63]\n",
      "['鄧哲榮', 54, 50, 57, 89, 94, 67, 58]\n",
      "['賴心怡', 82, 47, 73, 62, 61, 95, 83]\n",
      "['蔡孟泉', 75, 76, 99, 50, 66, 47, 42]\n",
      "['黃必琪', 95, 75, 49, 40, 44, 53, 68]\n",
      "['吳晴洋', 97, 55, 49, 71, 95, 88, 50]\n"
     ]
    }
   ],
   "source": [
    "student_nums:int = pyip.inputInt('請輸入學生的人數(1~50):',min=1,max=50)\n",
    "print(student_nums)\n",
    "scores_nums:int = pyip.inputInt('請輸入科目數(1~7):',min=1,max=7)  #調動順序,隨機科目數\n",
    "print(scores_nums)\n",
    "\n",
    "names:list[str] = random.choices(nameList,k=student_nums)\n",
    "for name in names:\n",
    "    stu:list[int|str]=[]\n",
    "    stu.append(name)\n",
    "    for i in range(scores_nums):\n",
    "        stu.append(random.randint(40,100))\n",
    "    print(stu)"
   ]
  },
  {
   "cell_type": "code",
   "execution_count": 15,
   "metadata": {},
   "outputs": [
    {
     "name": "stdout",
     "output_type": "stream",
     "text": [
      "請輸入學生的人數(1~50):10\n",
      "請輸入科目數(1~7):5\n"
     ]
    },
    {
     "data": {
      "text/plain": [
       "[['吳振瑋', 100, 77, 73, 45, 61],\n",
       " ['張莉雯', 70, 76, 65, 66, 97],\n",
       " ['林佳慧', 78, 72, 48, 76, 57],\n",
       " ['楊建安', 86, 77, 64, 88, 78],\n",
       " ['馮淑芬', 49, 50, 83, 90, 75],\n",
       " ['沈心利', 80, 86, 58, 77, 89],\n",
       " ['楊又源', 61, 94, 90, 58, 40],\n",
       " ['周家銘', 63, 59, 42, 63, 99],\n",
       " ['胡淑貞', 80, 53, 70, 68, 57],\n",
       " ['林淑安', 78, 72, 96, 73, 66]]"
      ]
     },
     "execution_count": 15,
     "metadata": {},
     "output_type": "execute_result"
    }
   ],
   "source": [
    "student_nums:int = pyip.inputInt('請輸入學生的人數(1~50):',min=1,max=50)\n",
    "print(student_nums)\n",
    "scores_nums:int = pyip.inputInt('請輸入科目數(1~7):',min=1,max=7)\n",
    "print(scores_nums)\n",
    "\n",
    "students:list[list] = []   #建立二維list\n",
    "\n",
    "names:list[str] = random.choices(nameList,k=student_nums)\n",
    "for name in names:\n",
    "    stu:list[int|str]=[]\n",
    "    stu.append(name)\n",
    "    for i in range(scores_nums):\n",
    "        stu.append(random.randint(40,100))\n",
    "    students.append(stu)\n",
    "\n",
    "students"
   ]
  }
 ],
 "metadata": {
  "kernelspec": {
   "display_name": "Python 3",
   "language": "python",
   "name": "python3"
  },
  "language_info": {
   "codemirror_mode": {
    "name": "ipython",
    "version": 3
   },
   "file_extension": ".py",
   "mimetype": "text/x-python",
   "name": "python",
   "nbconvert_exporter": "python",
   "pygments_lexer": "ipython3",
   "version": "3.11.7"
  }
 },
 "nbformat": 4,
 "nbformat_minor": 2
}
