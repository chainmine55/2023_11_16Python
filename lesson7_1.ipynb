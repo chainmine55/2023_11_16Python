{
 "cells": [
  {
   "cell_type": "code",
   "execution_count": 2,
   "metadata": {},
   "outputs": [
    {
     "name": "stdout",
     "output_type": "stream",
     "text": [
      "請輸入第1月份存款:7000\n",
      "請輸入第2月份存款:5000\n",
      "請輸入第3月份存款:6000\n",
      "請輸入第4月份存款:8000\n",
      "請輸入第5月份存款:5000\n",
      "恭喜!已經存夠了,工存了5月份,總存款為:31000\n"
     ]
    }
   ],
   "source": [
    "#小明想要存錢買一輛機車,機車每輛30000元，他將每月存的錢輸入，當存款足夠買機車時，就顯示提示訊息告知。\n",
    "\n",
    "import pyinputplus as pyip\n",
    "deposit = 0\n",
    "month = 0\n",
    "\n",
    "while deposit < 30000:\n",
    "    month += 1\n",
    "    money_month = pyip.inputInt(f\"請輸入第{month}月份存款:\")\n",
    "    print(money_month)\n",
    "    deposit += money_month\n",
    "\n",
    "print(f\"恭喜!已經存夠了,工存了{month}月份,總存款為:{deposit}\")"
   ]
  },
  {
   "cell_type": "code",
   "execution_count": 3,
   "metadata": {},
   "outputs": [
    {
     "name": "stdout",
     "output_type": "stream",
     "text": [
      "請輸入小寫英文字[按q就會離開]:Taipei\n",
      "請輸入小寫英文字[按q就會離開]:Japan\n",
      "請輸入小寫英文字[按q就會離開]:結束程式\n"
     ]
    }
   ],
   "source": [
    "#輸入小寫英文字,列印出第一個字大寫的英文字母\n",
    "#如果輸入q,就會離開\n",
    "\n",
    "stuff= pyip.inputStr(\"請輸入小寫英文字[按q就會離開]:\")\n",
    "while(stuff != \"q\"):\n",
    "    print(stuff.capitalize()) #capitalizes內建工具箱\n",
    "    stuff= pyip.inputStr(\"請輸入小寫英文字[按q就會離開]:\")\n",
    "\n",
    "print(\"結束程式\")"
   ]
  },
  {
   "cell_type": "code",
   "execution_count": 5,
   "metadata": {},
   "outputs": [
    {
     "name": "stdout",
     "output_type": "stream",
     "text": [
      "請輸入小寫英文字[按q就會離開]:Taipei\n",
      "請輸入小寫英文字[按q就會離開]:Janpan\n",
      "請輸入小寫英文字[按q就會離開]:結束程式\n"
     ]
    }
   ],
   "source": [
    "#輸入小寫英文字,列印出第一個字大寫的英文字母\n",
    "#如果輸入q,就會離開\n",
    "#break強制跳出迴圈\n",
    "\n",
    "while(True):\n",
    "    stuff= pyip.inputStr(\"請輸入小寫英文字[按q就會離開]:\")\n",
    "    if stuff ==\"q\":\n",
    "        break   \n",
    "    print(stuff.capitalize())\n",
    "    \n",
    "print(\"結束程式\")"
   ]
  },
  {
   "cell_type": "code",
   "execution_count": 10,
   "metadata": {},
   "outputs": [
    {
     "name": "stdout",
     "output_type": "stream",
     "text": [
      "請輸入1學生成績:100\n",
      "請輸入2學生成績:100\n",
      "請輸入3學生成績:100\n",
      "請輸入4學生成績:-1\n",
      "全班總成績:300,平均為100.0\n"
     ]
    }
   ],
   "source": [
    "#\n",
    "\n",
    "sum = 0\n",
    "num = 0\n",
    "\n",
    "while(True):\n",
    "    score = pyip.inputInt(f\"請輸入{num+1}學生成績:\")\n",
    "    print(score)\n",
    "    if score < 0:\n",
    "        break\n",
    "    num +=1\n",
    "    sum += score\n",
    "\n",
    "print(f\"全班總成績:{sum},平均為{sum/num}\")\n"
   ]
  }
 ],
 "metadata": {
  "kernelspec": {
   "display_name": "Python 3",
   "language": "python",
   "name": "python3"
  },
  "language_info": {
   "codemirror_mode": {
    "name": "ipython",
    "version": 3
   },
   "file_extension": ".py",
   "mimetype": "text/x-python",
   "name": "python",
   "nbconvert_exporter": "python",
   "pygments_lexer": "ipython3",
   "version": "3.10.13"
  }
 },
 "nbformat": 4,
 "nbformat_minor": 2
}
