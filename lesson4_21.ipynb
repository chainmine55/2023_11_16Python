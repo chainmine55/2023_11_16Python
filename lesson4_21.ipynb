{
 "cells": [
  {
   "cell_type": "code",
   "execution_count": 2,
   "metadata": {},
   "outputs": [
    {
     "name": "stdout",
     "output_type": "stream",
     "text": [
      "這是ture的程式區塊\n",
      "大於18\n",
      "程式結束\n"
     ]
    }
   ],
   "source": [
    "#if單向選擇\n",
    "\n",
    "a =21\n",
    "if a > 18:\n",
    "   print(\"這是ture的程式區塊\")\n",
    "   print(\"大於18\")\n",
    "print(\"程式結束\") "
   ]
  },
  {
   "cell_type": "code",
   "execution_count": 3,
   "metadata": {},
   "outputs": [
    {
     "name": "stdout",
     "output_type": "stream",
     "text": [
      "程式結束\n"
     ]
    }
   ],
   "source": [
    "a = 17\n",
    "if a > 18:\n",
    "    print(\"這是true的程式區塊\")\n",
    "    print(\"大於18\")\n",
    "print(\"程式結束\")"
   ]
  },
  {
   "cell_type": "code",
   "execution_count": 5,
   "metadata": {},
   "outputs": [
    {
     "name": "stdout",
     "output_type": "stream",
     "text": [
      "您尚未成年\n",
      "您的age是:17\n"
     ]
    }
   ],
   "source": [
    "#雙向選擇\n",
    "\n",
    "age = int(input(\"請輸入age:\"))\n",
    "\n",
    "if age >= 18:\n",
    "    print(\"您已經成年\")\n",
    "\n",
    "else:\n",
    "    print(\"您尚未成年\")\n",
    "\n",
    "print(f\"您的age是:{age}\") \n",
    "    "
   ]
  },
  {
   "cell_type": "code",
   "execution_count": 14,
   "metadata": {},
   "outputs": [
    {
     "name": "stdout",
     "output_type": "stream",
     "text": [
      "學生分數是284\n"
     ]
    }
   ],
   "source": [
    "#範例1-1\n",
    "#學分總分為300\n",
    "#有些學生可以加分5%\n",
    "\n",
    "scores = int(input(\"請輸入學生分數(最高300分):\"))\n",
    "is_add = input(\"學生是否符合加分條件?(y,n)\")\n",
    "\n",
    "if(is_add == \"y\"):\n",
    "    scores *= 1.05\n",
    "\n",
    "#print(f\"學生分數是{scores:.0f}\")\n",
    "#print(f\"學生分數是{int(scores)}\") \n",
    "print(f\"學生分數是{round(scores)}\")      "
   ]
  },
  {
   "cell_type": "code",
   "execution_count": 21,
   "metadata": {},
   "outputs": [
    {
     "name": "stdout",
     "output_type": "stream",
     "text": [
      "學生分數是:294\n"
     ]
    }
   ],
   "source": [
    "#範例1-2(巢狀判斷)\n",
    "#學分總分為300\n",
    "#有些學生可以加分5%\n",
    "#如果加分超過300分,就以300分為準\n",
    "\n",
    "scores = int(input(\"請輸入學生分數(最高300分):\"))\n",
    "is_add = input(\"學生是否符合加分條件?(y,n)\")\n",
    "\n",
    "if(is_add == \"y\"):\n",
    "    scores *= 1.05\n",
    "    if scores > 300:\n",
    "        scores = 300\n",
    "\n",
    "print(f\"學生分數是:{scores:.0f}\")"
   ]
  },
  {
   "cell_type": "code",
   "execution_count": 25,
   "metadata": {},
   "outputs": [
    {
     "name": "stdout",
     "output_type": "stream",
     "text": [
      "學生分數是294\n"
     ]
    }
   ],
   "source": [
    "#範例1-3\n",
    "#要檢查學生輸入分數是<=300\n",
    "#學分總分為300\n",
    "#有些學生可以加分5%\n",
    "#如果加分超過300分,就以300分為準\n",
    "\n",
    "\n",
    "scores = int(input(\"請輸入學生分數(最高300分):\"))\n",
    "\n",
    "\n",
    "if scores <=300:\n",
    "    is_add = input(\"學生是否符合加分條件?(y,n)\")\n",
    "    if(is_add == \"y\"):\n",
    "        scores *= 1.05\n",
    "\n",
    "        if scores >300:\n",
    "            scores = 300\n",
    "    print(f\"學生分數是{round(scores)}\")\n",
    "\n",
    "else:\n",
    "    print(\"學生分數不可超過300\")"
   ]
  },
  {
   "cell_type": "code",
   "execution_count": 29,
   "metadata": {},
   "outputs": [
    {
     "name": "stdout",
     "output_type": "stream",
     "text": [
      "學分分數是300\n"
     ]
    }
   ],
   "source": [
    "#範例1-3(練)\n",
    "#要檢查學生輸入分數是<=300\n",
    "#學分總分為300\n",
    "#有些學生可以加分5%\n",
    "#如果加分超過300分,就以300分為準\n",
    "\n",
    "scores = int(input(\"請輸入學生分數(最高300):\"))\n",
    "\n",
    "if scores <=300:\n",
    "    is_add = input(\"學分是否符合加分條件(y,n)\")\n",
    "    if(is_add == \"y\"):\n",
    "        scores *= 1.05\n",
    "        if scores > 300:\n",
    "            scores = 300\n",
    "    \n",
    "    print(f\"學分分數是{round(scores)}\")\n",
    "\n",
    "else:\n",
    "    print(\"分數不能超過300\")\n"
   ]
  }
 ],
 "metadata": {
  "kernelspec": {
   "display_name": "Python 3",
   "language": "python",
   "name": "python3"
  },
  "language_info": {
   "codemirror_mode": {
    "name": "ipython",
    "version": 3
   },
   "file_extension": ".py",
   "mimetype": "text/x-python",
   "name": "python",
   "nbconvert_exporter": "python",
   "pygments_lexer": "ipython3",
   "version": "3.10.13"
  }
 },
 "nbformat": 4,
 "nbformat_minor": 2
}
