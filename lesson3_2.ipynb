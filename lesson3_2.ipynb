{
 "cells": [
  {
   "cell_type": "code",
   "execution_count": 1,
   "metadata": {},
   "outputs": [
    {
     "data": {
      "text/plain": [
       "5"
      ]
     },
     "execution_count": 1,
     "metadata": {},
     "output_type": "execute_result"
    }
   ],
   "source": [
    "n = 5\n",
    "n + 5\n",
    "n"
   ]
  },
  {
   "cell_type": "code",
   "execution_count": 2,
   "metadata": {},
   "outputs": [
    {
     "data": {
      "text/plain": [
       "10"
      ]
     },
     "execution_count": 2,
     "metadata": {},
     "output_type": "execute_result"
    }
   ],
   "source": [
    "n = 5\n",
    "n = n + 5\n",
    "n"
   ]
  },
  {
   "cell_type": "code",
   "execution_count": 5,
   "metadata": {},
   "outputs": [
    {
     "name": "stdout",
     "output_type": "stream",
     "text": [
      "3數相加的總合是6\n"
     ]
    }
   ],
   "source": [
    "total = 0\n",
    "value = eval(input(\"請輸入第1個數值:\"))\n",
    "total = total + value\n",
    "\n",
    "value = eval(input(\"請輸入第2個數值:\"))\n",
    "total = total + value\n",
    "\n",
    "value = eval(input(\"請輸入第3個數值:\"))\n",
    "total = total + value\n",
    "\n",
    "print(f\"3數相加的總合是{total}\")"
   ]
  },
  {
   "cell_type": "code",
   "execution_count": 6,
   "metadata": {},
   "outputs": [
    {
     "name": "stdout",
     "output_type": "stream",
     "text": [
      "3數相加的總合是6\n"
     ]
    }
   ],
   "source": [
    "#複合指定運算值\n",
    "\n",
    "total = 0\n",
    "value = eval(input(\"請輸入第1個數值:\"))\n",
    "total += value\n",
    "\n",
    "value = eval(input(\"請輸入第2個數值:\"))\n",
    "total += value\n",
    "\n",
    "value = eval(input(\"請輸入第3個數值:\"))\n",
    "total += value\n",
    "\n",
    "print(f\"3數相加的總合是{total}\")"
   ]
  },
  {
   "cell_type": "code",
   "execution_count": 7,
   "metadata": {},
   "outputs": [
    {
     "data": {
      "text/plain": [
       "0.5235987755982989"
      ]
     },
     "execution_count": 7,
     "metadata": {},
     "output_type": "execute_result"
    }
   ],
   "source": [
    "import math\n",
    "\n",
    "side = eval(input(\"請輸入對邊:\"))\n",
    "another_side = eval(input(\"請輸入斜邊:\"))\n",
    "\n",
    "radian = math.asin(side/another_side)\n",
    "radian"
   ]
  },
  {
   "cell_type": "code",
   "execution_count": 8,
   "metadata": {},
   "outputs": [
    {
     "data": {
      "text/plain": [
       "30.000000000000004"
      ]
     },
     "execution_count": 8,
     "metadata": {},
     "output_type": "execute_result"
    }
   ],
   "source": [
    "import math\n",
    "\n",
    "side = eval(input(\"請輸入對邊:\"))\n",
    "another_side = eval(input(\"請輸入斜邊:\"))\n",
    "\n",
    "radian = math.asin(side/another_side)  #輸出徑度\n",
    "derees = math.degrees(radian)          #輸出角度\n",
    "derees"
   ]
  },
  {
   "cell_type": "code",
   "execution_count": 14,
   "metadata": {},
   "outputs": [
    {
     "name": "stdout",
     "output_type": "stream",
     "text": [
      "對邊:25,斜邊:50\n",
      "角度為30.00\n"
     ]
    }
   ],
   "source": [
    "import math\n",
    "\n",
    "side = eval(input(\"請輸入對邊:\"))\n",
    "another_side = eval(input(\"請輸入斜邊:\"))\n",
    "\n",
    "radian = math.asin(side/another_side) #輸出徑度\n",
    "derees = math.degrees(radian)         #輸出角度   \n",
    "\n",
    "print(f\"對邊:{side},斜邊:{another_side}\")   #print轉換\n",
    "print(f\"角度為{derees:.2f}\")                #print小數點二位"
   ]
  },
  {
   "cell_type": "code",
   "execution_count": 15,
   "metadata": {},
   "outputs": [
    {
     "data": {
      "text/plain": [
       "3.141592653589793"
      ]
     },
     "execution_count": 15,
     "metadata": {},
     "output_type": "execute_result"
    }
   ],
   "source": [
    "math.pi"
   ]
  },
  {
   "cell_type": "code",
   "execution_count": 16,
   "metadata": {},
   "outputs": [
    {
     "data": {
      "text/plain": [
       "2.718281828459045"
      ]
     },
     "execution_count": 16,
     "metadata": {},
     "output_type": "execute_result"
    }
   ],
   "source": [
    "math.e"
   ]
  }
 ],
 "metadata": {
  "kernelspec": {
   "display_name": "Python 3",
   "language": "python",
   "name": "python3"
  },
  "language_info": {
   "codemirror_mode": {
    "name": "ipython",
    "version": 3
   },
   "file_extension": ".py",
   "mimetype": "text/x-python",
   "name": "python",
   "nbconvert_exporter": "python",
   "pygments_lexer": "ipython3",
   "version": "3.10.13"
  }
 },
 "nbformat": 4,
 "nbformat_minor": 2
}
