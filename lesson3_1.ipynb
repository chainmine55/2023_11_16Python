{
 "cells": [
  {
   "cell_type": "code",
   "execution_count": 1,
   "metadata": {},
   "outputs": [
    {
     "data": {
      "text/plain": [
       "'5'"
      ]
     },
     "execution_count": 1,
     "metadata": {},
     "output_type": "execute_result"
    }
   ],
   "source": [
    "input(\"請輸入n的值:\")"
   ]
  },
  {
   "cell_type": "code",
   "execution_count": 2,
   "metadata": {},
   "outputs": [
    {
     "data": {
      "text/plain": [
       "579"
      ]
     },
     "execution_count": 2,
     "metadata": {},
     "output_type": "execute_result"
    }
   ],
   "source": [
    "#使用input(),請使用者自行輸入值\n",
    "n= int(input(\"請輸入n的值:\"))\n",
    "m = int(input(\"請輸入m的值:\"))\n",
    "total = n + m\n",
    "total"
   ]
  },
  {
   "cell_type": "code",
   "execution_count": 3,
   "metadata": {},
   "outputs": [
    {
     "data": {
      "text/plain": [
       "17.3"
      ]
     },
     "execution_count": 3,
     "metadata": {},
     "output_type": "execute_result"
    }
   ],
   "source": [
    "#使用input(),請使用者自行輸入值\n",
    "n= eval(input(\"請輸入n的值:\"))\n",
    "m = eval(input(\"請輸入m的值:\"))\n",
    "total = n + m\n",
    "total"
   ]
  },
  {
   "cell_type": "code",
   "execution_count": 4,
   "metadata": {},
   "outputs": [
    {
     "name": "stdout",
     "output_type": "stream",
     "text": [
      "3\n",
      "3 5 ab 3.145\n"
     ]
    }
   ],
   "source": [
    "#1個引述值\n",
    "print(3)\n",
    "#多個引述值\n",
    "print(3, '5', 'ab', 3.145)\n"
   ]
  },
  {
   "cell_type": "code",
   "execution_count": 1,
   "metadata": {},
   "outputs": [
    {
     "name": "stdout",
     "output_type": "stream",
     "text": [
      "12 + 145.36 = 157.36\n"
     ]
    }
   ],
   "source": [
    "#使用input(),請使用者自行輸入值\n",
    "n= eval(input(\"請輸入n的值:\"))\n",
    "m = eval(input(\"請輸入m的值:\"))\n",
    "total = n + m\n",
    "#多個引述值\n",
    "print(n, '+', m, '=' , total)"
   ]
  },
  {
   "cell_type": "code",
   "execution_count": 4,
   "metadata": {},
   "outputs": [
    {
     "name": "stdout",
     "output_type": "stream",
     "text": [
      "12+153.635=165.635\n"
     ]
    }
   ],
   "source": [
    "#使用input(),請使用者自行輸入值\n",
    "n= eval(input(\"請輸入n的值:\"))\n",
    "m = eval(input(\"請輸入m的值:\"))\n",
    "total = n + m\n",
    "#字串插補f=format格式\n",
    "print(f\"{n}+{m}={total}\")"
   ]
  },
  {
   "cell_type": "code",
   "execution_count": 5,
   "metadata": {},
   "outputs": [
    {
     "name": "stdout",
     "output_type": "stream",
     "text": [
      "12+45.684=57.68\n"
     ]
    }
   ],
   "source": [
    "#使用input(),請使用者自行輸入值\n",
    "n= eval(input(\"請輸入n的值:\"))\n",
    "m = eval(input(\"請輸入m的值:\"))\n",
    "total = n + m\n",
    "#字串插補f=format格式(.2f小數點2位)\n",
    "print(f\"{n}+{m}={total:.2f}\")"
   ]
  }
 ],
 "metadata": {
  "kernelspec": {
   "display_name": "Python 3",
   "language": "python",
   "name": "python3"
  },
  "language_info": {
   "codemirror_mode": {
    "name": "ipython",
    "version": 3
   },
   "file_extension": ".py",
   "mimetype": "text/x-python",
   "name": "python",
   "nbconvert_exporter": "python",
   "pygments_lexer": "ipython3",
   "version": "3.10.13"
  }
 },
 "nbformat": 4,
 "nbformat_minor": 2
}
