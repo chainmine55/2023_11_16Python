{
 "cells": [
  {
   "cell_type": "code",
   "execution_count": 3,
   "metadata": {},
   "outputs": [
    {
     "name": "stdout",
     "output_type": "stream",
     "text": [
      "請輸入學生分數(1-100:)85\n",
      "優\n"
     ]
    }
   ],
   "source": [
    "#三種條件範例1-1\n",
    "#請輸入學生分數0-100分\n",
    "#0-59分不及格\n",
    "#60-79分及格\n",
    "#80-100優\n",
    "\n",
    "import pyinputplus as pyip\n",
    "\n",
    "scores = pyip.inputInt(\"請輸入學生分數(1-100:)\",min=0,max=100)\n",
    "print(scores)\n",
    "\n",
    "if scores < 60:\n",
    "    print(\"不及格\")\n",
    "else:\n",
    "    if scores < 80:\n",
    "        print(\"及格\")\n",
    "    else:\n",
    "        print(\"優\")\n",
    "        "
   ]
  },
  {
   "cell_type": "code",
   "execution_count": 6,
   "metadata": {},
   "outputs": [
    {
     "name": "stdout",
     "output_type": "stream",
     "text": [
      "請輸入學生分數(1-100:)85\n",
      "優\n"
     ]
    }
   ],
   "source": [
    "#三種條件範例1-2(elif)\n",
    "#請輸入學生分數0-100分\n",
    "#0-59分不及格\n",
    "#60-79分及格\n",
    "#80-100優\n",
    "\n",
    "import pyinputplus as pyip\n",
    "\n",
    "scores = pyip.inputInt(\"請輸入學生分數(1-100:)\",min=0,max=100)\n",
    "print(scores)\n",
    "\n",
    "#多項選擇\n",
    "if scores < 60:\n",
    "    print(\"不及格\")\n",
    "elif scores < 80:\n",
    "    print(\"及格\")\n",
    "else:\n",
    "    print(\"優\")\n"
   ]
  },
  {
   "cell_type": "code",
   "execution_count": 6,
   "metadata": {},
   "outputs": [
    {
     "name": "stdout",
     "output_type": "stream",
     "text": [
      "請輸入學生分數(1-100:)"
     ]
    },
    {
     "name": "stdout",
     "output_type": "stream",
     "text": [
      "59\n",
      "丁\n"
     ]
    }
   ],
   "source": [
    "#多項選擇範例1-1\n",
    "# 90(含)~100分為「優」\n",
    "# 80(含)~89分為「甲」\n",
    "# 70(含)~79分為「乙」\n",
    "# 60(含)~69分為「丙」\n",
    "# 0(含)~59分為「丁」\n",
    "\n",
    "\n",
    "import pyinputplus as pyip\n",
    "\n",
    "scores = pyip.inputInt(\"請輸入學生分數(1-100:)\",min=0,max=100)\n",
    "print(scores)\n",
    "\n",
    "#多項選擇\n",
    "if scores < 60:\n",
    "    print(\"丁\")\n",
    "elif scores < 70:\n",
    "    print(\"丙\")\n",
    "elif scores < 80:\n",
    "    print(\"乙\")\n",
    "elif scores < 90:\n",
    "    print(\"甲\")\n",
    "else:\n",
    "    print(\"優\")\n",
    "\n"
   ]
  },
  {
   "cell_type": "code",
   "execution_count": 5,
   "metadata": {},
   "outputs": [
    {
     "name": "stdout",
     "output_type": "stream",
     "text": [
      "請輸入學生分數(1~100):79\n",
      "乙\n"
     ]
    }
   ],
   "source": [
    "#作業(寫對了～～～)\n",
    "# 90(含)~100分為「優」\n",
    "# 80(含)~89分為「甲」\n",
    "# 70(含)~79分為「乙」\n",
    "# 60(含)~69分為「丙」\n",
    "# 0(含)~59分為「丁」\n",
    "\n",
    "import pyinputplus as pyip\n",
    "\n",
    "scores = pyip.inputInt(\"請輸入學生分數(1~100):\",max=100,min=0)\n",
    "print(scores)\n",
    "#多項選擇(五個區塊只會執行其中一個)\n",
    "if scores >= 90:\n",
    "    print(\"優\")\n",
    "elif scores >=80:\n",
    "    print(\"甲\")\n",
    "elif scores >= 70:\n",
    "    print(\"乙\")\n",
    "elif scores >= 60:\n",
    "    print(\"丙\")\n",
    "else:\n",
    "    print(\"丁\")"
   ]
  },
  {
   "cell_type": "code",
   "execution_count": null,
   "metadata": {},
   "outputs": [],
   "source": [
    "#輸入顧客購買金額，若金額在\n",
    "#100000元打8折\n",
    "#50000打85折\n",
    "#30000打9折\n",
    "#10000打95折\n",
    "\n",
    "money = pyip.inputIny(\"請輸入購買金額:\")\n",
    "print(money)\n",
    "\n",
    "if money >= 10000:\n",
    "    money*0.8\n",
    "elif money >=5000:\n",
    "    money*0.85\n",
    "\n",
    "\n",
    "print(f\"請輸入購買金額:{}\")\n",
    "實付金額是: 104000.0 元"
   ]
  }
 ],
 "metadata": {
  "kernelspec": {
   "display_name": "Python 3",
   "language": "python",
   "name": "python3"
  },
  "language_info": {
   "codemirror_mode": {
    "name": "ipython",
    "version": 3
   },
   "file_extension": ".py",
   "mimetype": "text/x-python",
   "name": "python",
   "nbconvert_exporter": "python",
   "pygments_lexer": "ipython3",
   "version": "3.10.13"
  }
 },
 "nbformat": 4,
 "nbformat_minor": 2
}
