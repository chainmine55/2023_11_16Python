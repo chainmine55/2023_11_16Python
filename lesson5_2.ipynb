{
 "cells": [
  {
   "cell_type": "code",
   "execution_count": 3,
   "metadata": {},
   "outputs": [
    {
     "name": "stdout",
     "output_type": "stream",
     "text": [
      "請輸入學生分數(最高300分):Number must be at maximum 300.\n",
      "請輸入學生分數(最高300分):'270a' is not an integer.\n",
      "請輸入學生分數(最高300分):270\n",
      "學生分是284\n"
     ]
    }
   ],
   "source": [
    "#套用外部工具箱\n",
    "import pyinputplus as pyip\n",
    "\n",
    "scores = pyip.inputInt(\"請輸入學生分數(最高300分):\",min=0,max=300)\n",
    "print(scores)\n",
    "if scores <=300:\n",
    "    is_add = input(\"學生是否符合加分條件?(y,n)\")                                  \n",
    "\n",
    "if(is_add == \"y\"):\n",
    "    scores *= 1.05    \n",
    "    if scores > 300:  \n",
    "        scores =300   \n",
    "print(f\"學生分是{round(scores)}\")  \n"
   ]
  }
 ],
 "metadata": {
  "kernelspec": {
   "display_name": "Python 3",
   "language": "python",
   "name": "python3"
  },
  "language_info": {
   "codemirror_mode": {
    "name": "ipython",
    "version": 3
   },
   "file_extension": ".py",
   "mimetype": "text/x-python",
   "name": "python",
   "nbconvert_exporter": "python",
   "pygments_lexer": "ipython3",
   "version": "3.10.13"
  }
 },
 "nbformat": 4,
 "nbformat_minor": 2
}
