{
 "cells": [
  {
   "cell_type": "code",
   "execution_count": 5,
   "metadata": {},
   "outputs": [
    {
     "name": "stdout",
     "output_type": "stream",
     "text": [
      "下載成功\n"
     ]
    }
   ],
   "source": [
    "import requests\n",
    "\n",
    "url:str = '\thttps://www.moeaea.gov.tw/ECW/populace/opendata/wHandOpenData_File.ashx?set_id=248'\n",
    "response:requests.Response = requests.get(url)\n",
    "if response.status_code == 200:\n",
    "    print('下載成功')\n",
    "    data:str = response.text\n",
    "elif response.staus_code >= 400:\n",
    "    print('下載失敗')\n",
    "elif response.status_code > 200:\n",
    "    print('下載有問題')\n"
   ]
  },
  {
   "cell_type": "code",
   "execution_count": null,
   "metadata": {},
   "outputs": [],
   "source": [
    "with open('再生能源發電量.csv',mode = 'w', encoding = 'utf-8')  as file:\n",
    "    file.write(data)"
   ]
  }
 ],
 "metadata": {
  "kernelspec": {
   "display_name": "Python 3",
   "language": "python",
   "name": "python3"
  },
  "language_info": {
   "codemirror_mode": {
    "name": "ipython",
    "version": 3
   },
   "file_extension": ".py",
   "mimetype": "text/x-python",
   "name": "python",
   "nbconvert_exporter": "python",
   "pygments_lexer": "ipython3",
   "version": "3.10.13"
  }
 },
 "nbformat": 4,
 "nbformat_minor": 2
}
