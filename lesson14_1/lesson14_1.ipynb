{
 "cells": [
  {
   "cell_type": "code",
   "execution_count": 11,
   "metadata": {},
   "outputs": [
    {
     "name": "stdout",
     "output_type": "stream",
     "text": [
      "下載成功\n"
     ]
    }
   ],
   "source": [
    "#下載文字檔\n",
    "\n",
    "import requests\n",
    "\n",
    "url:str = '\thttps://www.moeaea.gov.tw/ECW/populace/opendata/wHandOpenData_File.ashx?set_id=248'\n",
    "response:requests.Response = requests.get(url)\n",
    "if response.status_code == 200:\n",
    "    print('下載成功')\n",
    "    data:str = response.text\n",
    "elif response.staus_code >= 400:\n",
    "    print('下載失敗')\n",
    "elif response.status_code > 200:\n",
    "    print('下載有問題')\n"
   ]
  },
  {
   "cell_type": "code",
   "execution_count": 12,
   "metadata": {},
   "outputs": [],
   "source": [
    "with open('再生能源發電量.csv',mode = 'w', encoding = 'utf-8')  as file:\n",
    "    file.write(data)"
   ]
  },
  {
   "cell_type": "code",
   "execution_count": 14,
   "metadata": {},
   "outputs": [
    {
     "name": "stdout",
     "output_type": "stream",
     "text": [
      "{'日期(年)': '2002', '單位': '千度', '再生能源發電量合計': '5582829', '慣常水力': '2778901', '地熱': '0', '太陽光電': '348', '風力_小計': '15880', '風力_陸域': '15880', '風力_離岸': '0', '生質能_小計': '410970', '生質能_固態': '298373', '生質能_氣態': '112597', '廢棄物': '2376730'}\n"
     ]
    }
   ],
   "source": [
    "#讀取csv檔,成為python的2維資料\n",
    "\n",
    "import csv\n",
    "with open('再生能源發電量.csv', mode='r', encoding='utf-8',newline='') as file:\n",
    "    dict_reader = csv.DictReader(file)\n",
    "    csv_data:list[dict] = list(dict_reader)\n",
    "\n",
    "for item in csv_data:\n",
    "    if item['日期(年)'] == '2002':\n",
    "        print(item)"
   ]
  }
 ],
 "metadata": {
  "kernelspec": {
   "display_name": "Python 3",
   "language": "python",
   "name": "python3"
  },
  "language_info": {
   "codemirror_mode": {
    "name": "ipython",
    "version": 3
   },
   "file_extension": ".py",
   "mimetype": "text/x-python",
   "name": "python",
   "nbconvert_exporter": "python",
   "pygments_lexer": "ipython3",
   "version": "3.10.13"
  }
 },
 "nbformat": 4,
 "nbformat_minor": 2
}
