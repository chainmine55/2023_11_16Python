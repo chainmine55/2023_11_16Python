{
 "cells": [
  {
   "cell_type": "code",
   "execution_count": 1,
   "metadata": {},
   "outputs": [
    {
     "data": {
      "text/plain": [
       "365"
      ]
     },
     "execution_count": 1,
     "metadata": {},
     "output_type": "execute_result"
    }
   ],
   "source": [
    "import pandas as pd\n",
    "from sqlalchemy import create_engine\n",
    "\n",
    "dataFrame = pd.read_csv('world.csv')\n",
    "Taiwan = dataFrame.query(('國家==\"台灣\"'))\n",
    "Taiwan2021 = Taiwan.query('日期>=\"2021-01-01\" and 日期<\"2022-01-01\"')\n",
    "engine = create_engine(\"sqlite:///cov19.db\")\n",
    "Taiwan2021.to_sql('台灣2021',engine,if_exists='fail',index=False)"
   ]
  },
  {
   "cell_type": "code",
   "execution_count": 9,
   "metadata": {},
   "outputs": [],
   "source": [
    "import pandas as pd\n",
    "\n",
    "dataFrame = pd.read_csv('world.csv')\n",
    "USA = dataFrame.query(('國家==\"美國\"'))\n",
    "\n",
    "sortUSA = USA.sort_values(by='新增確診數',ascending= False).iloc[:100]\n",
    "sortUSA.to_json('USAcov19.json',force_ascii=False,orient='table')"
   ]
  }
 ],
 "metadata": {
  "kernelspec": {
   "display_name": "Python 3",
   "language": "python",
   "name": "python3"
  },
  "language_info": {
   "codemirror_mode": {
    "name": "ipython",
    "version": 3
   },
   "file_extension": ".py",
   "mimetype": "text/x-python",
   "name": "python",
   "nbconvert_exporter": "python",
   "pygments_lexer": "ipython3",
   "version": "3.11.7"
  }
 },
 "nbformat": 4,
 "nbformat_minor": 2
}
