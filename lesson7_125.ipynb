{
 "cells": [
  {
   "cell_type": "code",
   "execution_count": 4,
   "metadata": {},
   "outputs": [
    {
     "name": "stdout",
     "output_type": "stream",
     "text": [
      "請輸入第1月份存款:8000\n",
      "請輸入第2月份存款:6000\n",
      "請輸入第3月份存款:8000\n",
      "請輸入第4月份存款:8000\n",
      "恭喜!已經存夠了,共存了4月,總共存了30000\n"
     ]
    }
   ],
   "source": [
    "#小明想要存錢買一輛機車,機車每輛30000元，他將每月存的錢輸入，當存款足夠買機車時，就顯示提示訊息告知。\n",
    "\n",
    "import pyinputplus as pyip\n",
    "\n",
    "deposit = 0\n",
    "month = 0\n",
    "\n",
    "while deposit < 30000:\n",
    "    month += 1\n",
    "    money_month = pyip.inputInt(f\"請輸入第{month}月份存款:\")\n",
    "    print(money_month)\n",
    "    deposit += money_month\n",
    "\n",
    "print(f\"恭喜!已經存夠了,共存了{month}月,總共存了{deposit}\") "
   ]
  },
  {
   "cell_type": "code",
   "execution_count": 5,
   "metadata": {},
   "outputs": [
    {
     "name": "stdout",
     "output_type": "stream",
     "text": [
      "請輸入小寫英文字母[按q會離開]Taipei\n",
      "請輸入小寫英文字母[按q會離開]Janpan\n",
      "請輸入小寫英文字母[按q會離開]程式結束\n"
     ]
    }
   ],
   "source": [
    "#輸入小寫的英文字,列印出第一個字大寫的英文字\n",
    "#如果輸入q,就會離開\n",
    "\n",
    "stuff = pyip.inputStr(\"請輸入小寫英文字母[按q會離開]:\")\n",
    "while(stuff != \"q\"):\n",
    "    print(stuff.capitalize())\n",
    "    stuff = pyip.inputStr(\"請輸入小寫英文字母[按q會離開]:\")\n",
    "\n",
    "print(\"程式結束\")"
   ]
  },
  {
   "cell_type": "code",
   "execution_count": 8,
   "metadata": {},
   "outputs": [
    {
     "name": "stdout",
     "output_type": "stream",
     "text": [
      "請輸入小寫英文字母[按q會離開]:Taipei\n",
      "請輸入小寫英文字母[按q會離開]:程式結束\n"
     ]
    }
   ],
   "source": [
    "while(True):\n",
    "    stuff = pyip.inputStr(\"請輸入小寫英文字母[按q會離開]:\")\n",
    "    if stuff == \"q\":\n",
    "        break\n",
    "    print(stuff.capitalize())\n",
    "\n",
    "print(\"程式結束\")"
   ]
  },
  {
   "cell_type": "code",
   "execution_count": 19,
   "metadata": {},
   "outputs": [
    {
     "name": "stdout",
     "output_type": "stream",
     "text": [
      "請輸入1成績:50\n",
      "請輸入2成績:60\n",
      "請輸入3成績:-4\n",
      "全班總成績為:110,總平均為:55.0\n"
     ]
    }
   ],
   "source": [
    "#小美是一位教師，請你以while迴圈方式為小美設計一個輸入成績的程式，如果輸入負數表示成績輸入結束，在輸入成績結束後顯示班上總成績及平均成績。\n",
    "\n",
    "sum = 0\n",
    "num = 0\n",
    "\n",
    "while(True):\n",
    "    score = pyip.inputInt(f\"請輸入{num+1}成績:\")\n",
    "    print(score)\n",
    "    if score < 0:\n",
    "        break\n",
    "    num += 1\n",
    "    sum += score\n",
    "\n",
    "\n",
    "print(f\"全班總成績為:{sum},總平均為:{sum/num}\")\n"
   ]
  },
  {
   "cell_type": "code",
   "execution_count": 3,
   "metadata": {},
   "outputs": [
    {
     "name": "stdout",
     "output_type": "stream",
     "text": [
      "5的平方是5**2\n",
      "不做任何動作\n",
      "a格式輸入錯誤\n",
      "程式結束\n"
     ]
    }
   ],
   "source": [
    "#顯示:\n",
    "#奇數輸出平方\n",
    "#偶數不做任何動作\n",
    "#\"q\"要離開\n",
    "\n",
    "import pyinputplus as pyip\n",
    "\n",
    "while(True):\n",
    "    value = input(\"請輸入整數,按[q]離開:\")\n",
    "\n",
    "    if value == \"q\":\n",
    "        break\n",
    "    try:\n",
    "        valueInt = int(value)\n",
    "    except:\n",
    "        print(f\"{value}格式輸入錯誤\")\n",
    "        continue\n",
    "\n",
    "    if valueInt % 2 == 1:\n",
    "        print(f\"{valueInt}的平方是{value}**2\")\n",
    "    else:\n",
    "        print(\"不做任何動作\")\n",
    "\n",
    "print(\"程式結束\")"
   ]
  },
  {
   "cell_type": "code",
   "execution_count": 2,
   "metadata": {},
   "outputs": [
    {
     "name": "stdout",
     "output_type": "stream",
     "text": [
      "60\n",
      "===========猜數字遊戲============\n",
      "猜數字範圍1~100:50\n",
      "再大一點\n",
      "您已經猜了1次\n",
      "=============================\n",
      "猜數字範圍51~100:60\n",
      "恭喜猜對了,答案是60\n",
      "您猜了2次\n",
      "程式結束\n"
     ]
    }
   ],
   "source": [
    "import pyinputplus as pyip\n",
    "import random\n",
    "\n",
    "min = 1\n",
    "max = 100\n",
    "count = 0\n",
    "random_number = random.randint(min,max)\n",
    "print(random_number)\n",
    "print(\"===========猜數字遊戲============\")\n",
    "\n",
    "while(True):\n",
    "    keyin = pyip.inputInt(f\"猜數字範圍{min}~{max}:\")\n",
    "    count += 1\n",
    "    print(keyin)\n",
    "\n",
    "    if keyin == random_number:\n",
    "        print(f\"恭喜猜對了,答案是{random_number}\")\n",
    "        print(f\"您猜了{count}次\")\n",
    "        break\n",
    "    elif keyin < random_number:\n",
    "        print(\"再大一點\")\n",
    "        min = keyin + 1\n",
    "    elif keyin > random_number:\n",
    "        print(\"再小一點\")\n",
    "        max = keyin - 1\n",
    "    print(f\"您已經猜了{count}次\")\n",
    "    print(\"=============================\")\n",
    "\n",
    "print(\"程式結束\")"
   ]
  },
  {
   "cell_type": "code",
   "execution_count": 3,
   "metadata": {},
   "outputs": [
    {
     "name": "stdout",
     "output_type": "stream",
     "text": [
      "Hello!\n"
     ]
    }
   ],
   "source": [
    "#沒有參數,沒有值出值\n",
    "def sayHello():\n",
    "    print(\"Hello!\")\n",
    "sayHello()"
   ]
  },
  {
   "cell_type": "code",
   "execution_count": 4,
   "metadata": {},
   "outputs": [
    {
     "name": "stdout",
     "output_type": "stream",
     "text": [
      "58\n",
      "===========猜數字遊戲============\n",
      "猜數字範圍1~100:58\n",
      "恭喜猜對了,答案是58\n",
      "您猜了1次\n",
      "請問還要繼續嗎?(y,n)16\n",
      "===========猜數字遊戲============\n",
      "猜數字範圍1~100:16\n",
      "恭喜猜對了,答案是16\n",
      "您猜了1次\n",
      "請問還要繼續嗎?(y,n)遊戲結束\n"
     ]
    }
   ],
   "source": [
    "#function 代表功能\n",
    "#可以邏輯思考變簡單\n",
    "\n",
    "import pyinputplus as pyip\n",
    "import random\n",
    "\n",
    "def palyGame():\n",
    "    min = 1\n",
    "    max = 100\n",
    "    count = 0\n",
    "    random_number = random.randint(min,max)\n",
    "    print(random_number)\n",
    "    print(\"===========猜數字遊戲============\")\n",
    "\n",
    "    while(True):\n",
    "        keyin = pyip.inputInt(f\"猜數字範圍{min}~{max}:\")\n",
    "        count += 1\n",
    "        print(keyin)\n",
    "\n",
    "        if keyin == random_number:\n",
    "            print(f\"恭喜猜對了,答案是{random_number}\")\n",
    "            print(f\"您猜了{count}次\")\n",
    "            break\n",
    "        elif keyin < random_number:\n",
    "            print(\"再大一點\")\n",
    "            min = keyin + 1\n",
    "        elif keyin > random_number:\n",
    "            print(\"再小一點\")\n",
    "            max = keyin - 1\n",
    "        print(f\"您已經猜了{count}次\")\n",
    "        print(\"=============================\")\n",
    "\n",
    "while(True):\n",
    "    palyGame()\n",
    "    is_continue = pyip.inputYesNo(f\"請問還要繼續嗎?(y,n)\")\n",
    "    if is_continue != \"yes\":\n",
    "        break\n",
    "\n",
    "print(\"遊戲結束\")"
   ]
  }
 ],
 "metadata": {
  "kernelspec": {
   "display_name": "Python 3",
   "language": "python",
   "name": "python3"
  },
  "language_info": {
   "codemirror_mode": {
    "name": "ipython",
    "version": 3
   },
   "file_extension": ".py",
   "mimetype": "text/x-python",
   "name": "python",
   "nbconvert_exporter": "python",
   "pygments_lexer": "ipython3",
   "version": "3.10.13"
  }
 },
 "nbformat": 4,
 "nbformat_minor": 2
}
