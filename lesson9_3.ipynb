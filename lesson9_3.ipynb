{
 "cells": [
  {
   "cell_type": "code",
   "execution_count": 13,
   "metadata": {},
   "outputs": [],
   "source": [
    "class Student:\n",
    "    def __init__(self,n,c,e,m):\n",
    "        #attribute(屬性)\n",
    "        self.__name = n  #不可以取出和修改\n",
    "        self.chinese = c #可修改的attribute\n",
    "        self.english = e\n",
    "        self.math = m\n",
    "\n",
    "    @property\n",
    "    def name(self):   #property(屬性)\n",
    "        return self.__name"
   ]
  },
  {
   "cell_type": "code",
   "execution_count": 14,
   "metadata": {},
   "outputs": [
    {
     "name": "stdout",
     "output_type": "stream",
     "text": [
      "TY\n",
      "78\n",
      "92\n",
      "65\n"
     ]
    }
   ],
   "source": [
    "stu1 = Student(\"TY\",78,92,65)\n",
    "print(stu1.name)\n",
    "print(stu1.chinese)\n",
    "print(stu1.english)\n",
    "print(stu1.math)"
   ]
  },
  {
   "cell_type": "code",
   "execution_count": 11,
   "metadata": {},
   "outputs": [
    {
     "name": "stdout",
     "output_type": "stream",
     "text": [
      "100\n",
      "100\n",
      "100\n"
     ]
    }
   ],
   "source": [
    "#stu1.name = \"chain\"  #property不可以修改的內容\n",
    "stu1.chinese = 100\n",
    "stu1.english = 100\n",
    "stu1.math = 100\n",
    "\n",
    "print(stu1.chinese)\n",
    "print(stu1.english)\n",
    "print(stu1.math)"
   ]
  }
 ],
 "metadata": {
  "kernelspec": {
   "display_name": "Python 3",
   "language": "python",
   "name": "python3"
  },
  "language_info": {
   "codemirror_mode": {
    "name": "ipython",
    "version": 3
   },
   "file_extension": ".py",
   "mimetype": "text/x-python",
   "name": "python",
   "nbconvert_exporter": "python",
   "pygments_lexer": "ipython3",
   "version": "3.10.13"
  }
 },
 "nbformat": 4,
 "nbformat_minor": 2
}
