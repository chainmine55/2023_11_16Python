{
 "cells": [
  {
   "cell_type": "code",
   "execution_count": 1,
   "metadata": {},
   "outputs": [],
   "source": [
    "stu1 = {\n",
    "    '姓名':'陳怡伶',\n",
    "    '國文':89,\n",
    "    '英文':92,\n",
    "    '數學':83,\n",
    "    '地理':91,\n",
    "    '歷史':65,\n",
    "    }"
   ]
  },
  {
   "cell_type": "code",
   "execution_count": 2,
   "metadata": {},
   "outputs": [],
   "source": [
    "stu2 = {\n",
    "    '姓名':'馮芳如',\n",
    "    '國文':92,\n",
    "    '英文':75,\n",
    "    '數學':92,\n",
    "    '地理':89,\n",
    "    '歷史':77,\n",
    "    }"
   ]
  },
  {
   "cell_type": "code",
   "execution_count": 3,
   "metadata": {},
   "outputs": [
    {
     "data": {
      "text/plain": [
       "[{'姓名': '陳怡伶', '國文': 89, '英文': 92, '數學': 83, '地理': 91, '歷史': 65},\n",
       " {'姓名': '馮芳如', '國文': 92, '英文': 75, '數學': 92, '地理': 89, '歷史': 77}]"
      ]
     },
     "execution_count": 3,
     "metadata": {},
     "output_type": "execute_result"
    }
   ],
   "source": [
    "students = [stu1,stu2]\n",
    "students"
   ]
  },
  {
   "cell_type": "code",
   "execution_count": 6,
   "metadata": {},
   "outputs": [
    {
     "data": {
      "text/plain": [
       "[{'姓名': '陳怡伶', '國文': 89, '英文': 92, '數學': 83, '地理': 91, '歷史': 65},\n",
       " {'姓名': '馮芳如', '國文': 92, '英文': 75, '數學': 92, '地理': 89, '歷史': 77}]"
      ]
     },
     "execution_count": 6,
     "metadata": {},
     "output_type": "execute_result"
    }
   ],
   "source": [
    "def getStudents() ->list[dict]:\n",
    "    stu1 = {\n",
    "        '姓名':'陳怡伶',\n",
    "        '國文':89,\n",
    "        '英文':92,\n",
    "        '數學':83,\n",
    "        '地理':91,\n",
    "        '歷史':65,\n",
    "        }\n",
    "\n",
    "    stu2 = {\n",
    "        '姓名':'馮芳如',\n",
    "        '國文':92,\n",
    "        '英文':75,\n",
    "        '數學':92,\n",
    "        '地理':89,\n",
    "        '歷史':77,\n",
    "        }\n",
    "    students = []\n",
    "    for i in range(2):\n",
    "        students.append(stu1)\n",
    "        students.append(stu2)\n",
    "    return students\n",
    "\n",
    "getStudents()"
   ]
  },
  {
   "cell_type": "code",
   "execution_count": 26,
   "metadata": {},
   "outputs": [],
   "source": [
    "from random import randint,choices\n",
    "\n",
    "\n",
    "def getStudents(nums:int) ->list[dict]:\n",
    "    students:list[dict] = []\n",
    "    with open('names.txt',mode='r',encoding='utf-8') as file:\n",
    "        names:str = file.read()\n",
    "    nameList:list[str] = names.split('\\n')  #split切割\n",
    "    names:list[str] = choices(nameList,k=nums)\n",
    "\n",
    "    for i in range(nums):\n",
    "        stu = {\n",
    "        '姓名':names[i],\n",
    "        '國文':randint(45,100),\n",
    "        '英文':randint(45,100),\n",
    "        '數學':randint(45,100),\n",
    "        '地理':randint(45,100),\n",
    "        '歷史':randint(45,100),\n",
    "        }\n",
    "        students.append(stu)\n",
    "\n",
    "    return students\n",
    "\n"
   ]
  },
  {
   "cell_type": "code",
   "execution_count": 27,
   "metadata": {},
   "outputs": [
    {
     "name": "stdout",
     "output_type": "stream",
     "text": [
      "請輸入學生的人數(1~50):30\n"
     ]
    },
    {
     "data": {
      "text/plain": [
       "[{'姓名': '鄭琇亞', '國文': 62, '英文': 47, '數學': 49, '地理': 61, '歷史': 78},\n",
       " {'姓名': '黎惠雯', '國文': 87, '英文': 73, '數學': 53, '地理': 48, '歷史': 67},\n",
       " {'姓名': '王泓泰', '國文': 71, '英文': 55, '數學': 81, '地理': 70, '歷史': 99},\n",
       " {'姓名': '王德城', '國文': 78, '英文': 85, '數學': 81, '地理': 74, '歷史': 68},\n",
       " {'姓名': '王泓泰', '國文': 83, '英文': 61, '數學': 51, '地理': 100, '歷史': 75},\n",
       " {'姓名': '唐翊修', '國文': 47, '英文': 96, '數學': 96, '地理': 100, '歷史': 49},\n",
       " {'姓名': '黃志福', '國文': 60, '英文': 62, '數學': 100, '地理': 55, '歷史': 55},\n",
       " {'姓名': '崔孝憲', '國文': 73, '英文': 45, '數學': 51, '地理': 63, '歷史': 46},\n",
       " {'姓名': '黃奎紹', '國文': 82, '英文': 73, '數學': 58, '地理': 93, '歷史': 93},\n",
       " {'姓名': '王品星', '國文': 69, '英文': 77, '數學': 80, '地理': 80, '歷史': 71},\n",
       " {'姓名': '陳冠竹', '國文': 60, '英文': 99, '數學': 57, '地理': 45, '歷史': 45},\n",
       " {'姓名': '高信宏', '國文': 79, '英文': 65, '數學': 73, '地理': 63, '歷史': 69},\n",
       " {'姓名': '陳向愛', '國文': 82, '英文': 52, '數學': 98, '地理': 94, '歷史': 87},\n",
       " {'姓名': '朱彥志', '國文': 60, '英文': 75, '數學': 87, '地理': 60, '歷史': 90},\n",
       " {'姓名': '龔姵君', '國文': 87, '英文': 67, '數學': 58, '地理': 76, '歷史': 59},\n",
       " {'姓名': '王怡君', '國文': 50, '英文': 94, '數學': 48, '地理': 67, '歷史': 57},\n",
       " {'姓名': '周琬婷', '國文': 64, '英文': 99, '數學': 87, '地理': 59, '歷史': 95},\n",
       " {'姓名': '張雅芬', '國文': 78, '英文': 63, '數學': 74, '地理': 67, '歷史': 70},\n",
       " {'姓名': '魏秋萍', '國文': 87, '英文': 92, '數學': 73, '地理': 63, '歷史': 54},\n",
       " {'姓名': '張雅芬', '國文': 79, '英文': 48, '數學': 94, '地理': 68, '歷史': 95},\n",
       " {'姓名': '周怡啟', '國文': 50, '英文': 79, '數學': 74, '地理': 68, '歷史': 87},\n",
       " {'姓名': '李佳彥', '國文': 84, '英文': 86, '數學': 76, '地理': 93, '歷史': 72},\n",
       " {'姓名': '郭致恬', '國文': 92, '英文': 91, '數學': 75, '地理': 79, '歷史': 96},\n",
       " {'姓名': '周家銘', '國文': 72, '英文': 55, '數學': 91, '地理': 82, '歷史': 57},\n",
       " {'姓名': '李政白', '國文': 49, '英文': 81, '數學': 60, '地理': 65, '歷史': 47},\n",
       " {'姓名': '黃淑芬', '國文': 54, '英文': 71, '數學': 66, '地理': 83, '歷史': 66},\n",
       " {'姓名': '黃政甫', '國文': 83, '英文': 96, '數學': 71, '地理': 92, '歷史': 84},\n",
       " {'姓名': '林佳慧', '國文': 97, '英文': 99, '數學': 90, '地理': 81, '歷史': 75},\n",
       " {'姓名': '許芳如', '國文': 86, '英文': 68, '數學': 91, '地理': 45, '歷史': 86},\n",
       " {'姓名': '馬彥文', '國文': 78, '英文': 49, '數學': 94, '地理': 89, '歷史': 93}]"
      ]
     },
     "execution_count": 27,
     "metadata": {},
     "output_type": "execute_result"
    }
   ],
   "source": [
    "import pyinputplus as pyip\n",
    "\n",
    "s_nums:int = pyip.inputInt('請輸入學生的人數(1~50):',min=1,max=50)\n",
    "print(s_nums)\n",
    "\n",
    "students = getStudents(s_nums)\n",
    "students"
   ]
  },
  {
   "cell_type": "code",
   "execution_count": 18,
   "metadata": {},
   "outputs": [
    {
     "name": "stdout",
     "output_type": "stream",
     "text": [
      "寫入成功\n"
     ]
    }
   ],
   "source": [
    "import csv\n",
    "from csv import DictWriter\n",
    "\n",
    "def save_to_csv(students:list[dict])\n",
    "    with open('class1.csv',mode = 'w', encoding = 'utf-8', newline = '') as file:\n",
    "        fieldnames:list[str] = ['姓名', '國文','英文','數學','地理','歷史']\n",
    "        writer:DictWriter = csv.DictWriter(file,fieldnames=fieldnames)\n",
    "        writer.writeheader()\n",
    "        writer.writerows(students)\n",
    "    print('寫入成功')\n",
    "\n",
    "save_to_csv(students)"
   ]
  },
  {
   "cell_type": "code",
   "execution_count": 21,
   "metadata": {},
   "outputs": [
    {
     "name": "stdout",
     "output_type": "stream",
     "text": [
      "寫入成功\n"
     ]
    }
   ],
   "source": [
    "#class改fileName\n",
    "import csv\n",
    "from csv import DictWriter\n",
    "\n",
    "def save_to_csv(students:list[dict],fileName:str)->None:\n",
    "    #filename += '.csv'\n",
    "    fileNameWith:str = fileName + '.csv'\n",
    "    with open(fileNameWith,mode = 'w', encoding = 'utf-8', newline = '') as file:\n",
    "        fieldnames:list[str] = ['姓名', '國文','英文','數學','地理','歷史']\n",
    "        writer:DictWriter = csv.DictWriter(file,fieldnames=fieldnames)\n",
    "        writer.writeheader()\n",
    "        writer.writerows(students)\n",
    "    print('寫入成功')\n",
    "\n",
    "save_to_csv(students,'class2')"
   ]
  },
  {
   "cell_type": "code",
   "execution_count": 22,
   "metadata": {},
   "outputs": [
    {
     "name": "stdout",
     "output_type": "stream",
     "text": [
      "請輸入檔案名稱(不用輸入副檔名稱:)寫入成功\n"
     ]
    }
   ],
   "source": [
    "fileName = pyip.inputFilename(\"請輸入檔案名稱(不用輸入副檔名稱:)\")\n",
    "save_to_csv(students,fileName)"
   ]
  }
 ],
 "metadata": {
  "kernelspec": {
   "display_name": "Python 3",
   "language": "python",
   "name": "python3"
  },
  "language_info": {
   "codemirror_mode": {
    "name": "ipython",
    "version": 3
   },
   "file_extension": ".py",
   "mimetype": "text/x-python",
   "name": "python",
   "nbconvert_exporter": "python",
   "pygments_lexer": "ipython3",
   "version": "3.10.13"
  }
 },
 "nbformat": 4,
 "nbformat_minor": 2
}
