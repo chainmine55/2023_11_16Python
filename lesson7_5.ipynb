{
 "cells": [
  {
   "cell_type": "code",
   "execution_count": 1,
   "metadata": {},
   "outputs": [
    {
     "name": "stdout",
     "output_type": "stream",
     "text": [
      "Hello!\n"
     ]
    }
   ],
   "source": [
    "#沒有參數,沒有值出值\n",
    "\n",
    "def sayhello():\n",
    "    print(\"Hello!\")\n",
    "\n",
    "#funtion可以重複呼叫\n",
    "sayhello()"
   ]
  },
  {
   "cell_type": "code",
   "execution_count": 2,
   "metadata": {},
   "outputs": [
    {
     "name": "stdout",
     "output_type": "stream",
     "text": [
      "50\n",
      "==========猜數字遊戲============\n",
      "猜數字範圍1~100:50\n",
      "賓果!猜對了,答案是:50\n",
      "您猜了1次\n",
      "請問還要繼續嗎?(y,n)'50' is not a valid yes/no response.\n",
      "請問還要繼續嗎?(y,n)18\n",
      "==========猜數字遊戲============\n",
      "猜數字範圍1~100:'y' is not an integer.\n",
      "猜數字範圍1~100:18\n",
      "賓果!猜對了,答案是:18\n",
      "您猜了1次\n",
      "請問還要繼續嗎?(y,n)遊戲結束\n"
     ]
    }
   ],
   "source": [
    "#funtion 代表功能\n",
    "#可以讓邏輯思考變簡單\n",
    "\n",
    "import pyinputplus as pyip\n",
    "import random\n",
    "\n",
    "def playgame():\n",
    "    min = 1\n",
    "    max = 100\n",
    "    count = 0\n",
    "    random_number = random.randint(min,max)\n",
    "    print(random_number)\n",
    "    print(\"==========猜數字遊戲============\")\n",
    "    while True:\n",
    "        keyin = pyip.inputInt(f\"猜數字範圍{min}~{max}:\")\n",
    "        count += 1\n",
    "        print(keyin)\n",
    "        if keyin == random_number:\n",
    "            print(f\"賓果!猜對了,答案是:{random_number}\")\n",
    "            print(f\"您猜了{count}次\")\n",
    "            break\n",
    "        elif keyin > random_number:\n",
    "            print(\"再小一點\")\n",
    "            max = keyin - 1\n",
    "        elif keyin < random_number:\n",
    "            print(\"再大一點\")\n",
    "            min = keyin + 1\n",
    "        print(f\"您已經猜了{count}次\")\n",
    "        print(\"=================\")\n",
    "\n",
    "while(True):\n",
    "    playgame()\n",
    "    is_continue = pyip.inputYesNo(\"請問還要繼續嗎?(y,n)\")\n",
    "    if is_continue !=\"yes\":\n",
    "        break\n",
    "print(\"遊戲結束\")"
   ]
  }
 ],
 "metadata": {
  "kernelspec": {
   "display_name": "Python 3",
   "language": "python",
   "name": "python3"
  },
  "language_info": {
   "codemirror_mode": {
    "name": "ipython",
    "version": 3
   },
   "file_extension": ".py",
   "mimetype": "text/x-python",
   "name": "python",
   "nbconvert_exporter": "python",
   "pygments_lexer": "ipython3",
   "version": "3.10.13"
  }
 },
 "nbformat": 4,
 "nbformat_minor": 2
}
